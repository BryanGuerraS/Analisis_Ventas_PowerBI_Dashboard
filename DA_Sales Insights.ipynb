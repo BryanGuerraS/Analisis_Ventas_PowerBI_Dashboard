{
 "cells": [
  {
   "cell_type": "markdown",
   "id": "09f9868e",
   "metadata": {},
   "source": [
    "<h2>Problemática</h2>\n",
    "\n",
    "Rashan Hardware es una empresa que suministra hardware y software informático a muchos de los clientes que tienen Surge Stores, Nomad Stores, Excel Stores, Electricalsara Stores.<br>\n",
    "\n",
    "Acaban de contratar a un nuevo director de ventas que se encuentra con muchos desafíos, siendo uno de los principales el crecimiento exponencial del mercado que le conduce a problemas en el seguimiento de ventas.<br>\n",
    "\n",
    "Además, no cuenta con los conocimientos adecuados de su negocio por lo que depende de la comunicación realizada con los gerentes regionales (Norte, centro y sur). Sin embargo, la comunicación con los gerentes es solo por llamada y le brindan información insuficiente sobre el estado actual de sus ventas, ya que dan una perspectiva optimista de la situación para no manchar su imagen.\n",
    "\n",
    "De este modo, el director de ventas observa que las ventas en general continúan disminuyendo a pesar de que los gerentes mencionaron que se encontraban bien. Por ello, solicita datos a los gerentes y le entregan una gran cantidad de archivos en excel sin procesar. Por último, ante esta situación nos contrata como Analista de Datos para solucionar este problema.\n",
    "\n",
    "<h2>Objetivo:</h2> <br>\n",
    "Analizar los requerimientos del director de ventas, preparar, procesar y analizar la data para la creación de gráficas sencillas en un dashboard Power BI que generen insights y apoyen a la toma de decisiones del director de ventas.\n",
    "\n",
    "<h2>Power BI - Link</h2> <br>\n",
    "www.ibm.com.pe\n"
   ]
  },
  {
   "cell_type": "markdown",
   "id": "43d267e5",
   "metadata": {},
   "source": [
    "Data Discovery\n",
    "--- AIMS Grid"
   ]
  },
  {
   "cell_type": "code",
   "execution_count": null,
   "id": "3280ec93",
   "metadata": {},
   "outputs": [],
   "source": []
  },
  {
   "cell_type": "markdown",
   "id": "f812a218",
   "metadata": {},
   "source": [
    "Data Analysis using SQL"
   ]
  },
  {
   "cell_type": "code",
   "execution_count": null,
   "id": "a031b453",
   "metadata": {},
   "outputs": [],
   "source": []
  },
  {
   "cell_type": "code",
   "execution_count": null,
   "id": "9ddb6061",
   "metadata": {},
   "outputs": [],
   "source": []
  },
  {
   "cell_type": "code",
   "execution_count": null,
   "id": "d578aba2",
   "metadata": {},
   "outputs": [],
   "source": []
  },
  {
   "cell_type": "code",
   "execution_count": null,
   "id": "8b1a2c65",
   "metadata": {},
   "outputs": [],
   "source": []
  },
  {
   "cell_type": "code",
   "execution_count": null,
   "id": "2a2036a2",
   "metadata": {},
   "outputs": [],
   "source": []
  }
 ],
 "metadata": {
  "kernelspec": {
   "display_name": "Python 3 (ipykernel)",
   "language": "python",
   "name": "python3"
  },
  "language_info": {
   "codemirror_mode": {
    "name": "ipython",
    "version": 3
   },
   "file_extension": ".py",
   "mimetype": "text/x-python",
   "name": "python",
   "nbconvert_exporter": "python",
   "pygments_lexer": "ipython3",
   "version": "3.9.13"
  }
 },
 "nbformat": 4,
 "nbformat_minor": 5
}
